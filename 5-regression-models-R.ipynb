{
 "cells": [
  {
   "cell_type": "markdown",
   "metadata": {
  "kernelspec": {
   "display_name": "R",
   "language": "R",
   "name": "ir"
  },
  "language_info": {
   "codemirror_mode": "r",
   "file_extension": ".r",
   "mimetype": "text/x-r-source",
   "name": "R",
   "pygments_lexer": "r",
   "version": "4.0.0"
  }
 },
   "source": [
    "Regression Models \n",
    "================="
   ]
  },
  {
   "cell_type": "code",
   "execution_count": null,
   "metadata": {
  "kernelspec": {
   "display_name": "R",
   "language": "R",
   "name": "ir"
  },
  "language_info": {
   "codemirror_mode": "r",
   "file_extension": ".r",
   "mimetype": "text/x-r-source",
   "name": "R",
   "pygments_lexer": "r",
   "version": "4.0.0"
  }
 },
   "outputs": [],
   "source": [
    "source(\"load_hess.R\")\n",
    "source(\"maclearn_utils_2020.R\")\n",
    "library(caret)\n",
    "library(ggplot2)\n",
    "theme_set(theme_bw())"
   ]
  },
  {
   "cell_type": "markdown",
   "metadata": {
  "kernelspec": {
   "display_name": "R",
   "language": "R",
   "name": "ir"
  },
  "language_info": {
   "codemirror_mode": "r",
   "file_extension": ".r",
   "mimetype": "text/x-r-source",
   "name": "R",
   "pygments_lexer": "r",
   "version": "4.0.0"
  }
 },
   "source": [
    "Let's put our study of classification modeling on pause for a moment\n",
    "and briefly consider regression instead. As a reminder, these two\n",
    "terms are generally distinguished in supervised ML contexts by the\n",
    "nature of the output to be predicted:\n",
	"\n",
    "**Classification**\n",
    ":   models predict discrete class labels, while\n",
	"\n",
    "**Regression**\n",
    ":   models predict numeric values.\n",
    "\n",
    "There are certainly weird edge cases that blur these boundaries, but\n",
    "we won't get into any of those here!\n",
    "\n",
    "I'm going to jump right into an example using the Hess data set here:\n",
    "Modeling the numeric field `DLDA30.Value` from `hessTrainAnnot`\n",
    "using the gene expression values from `hessTrain`. More\n",
    "specifically, using 10 probe sets selected on the basis of correlation\n",
    "with the desired output to, which will be facilitated by defining:"
   ]
  },
  {
   "cell_type": "code",
   "execution_count": null,
   "metadata": {
  "kernelspec": {
   "display_name": "R",
   "language": "R",
   "name": "ir"
  },
  "language_info": {
   "codemirror_mode": "r",
   "file_extension": ".r",
   "mimetype": "text/x-r-source",
   "name": "R",
   "pygments_lexer": "r",
   "version": "4.0.0"
  }
 },
   "outputs": [],
   "source": [
    "selectByPearsonCorrelation = function(x, y, m) {\n",
    "     ## assume x is samples-in-rows, genes-in-columns format!\n",
    "    r = cor(x, y)[ , 1]\n",
    "    return(colnames(x)[order(abs(r), decreasing=TRUE)[1:m]])\n",
    "}"
   ]
  },
  {
   "cell_type": "markdown",
   "metadata": {
  "kernelspec": {
   "display_name": "R",
   "language": "R",
   "name": "ir"
  },
  "language_info": {
   "codemirror_mode": "r",
   "file_extension": ".r",
   "mimetype": "text/x-r-source",
   "name": "R",
   "pygments_lexer": "r",
   "version": "4.0.0"
  }
 },
   "source": [
    "This function is a continuous-`y` analog of the `selectByTTest`\n",
    "function introduced when we initially discussed feature selection.\n",
    "\n",
    "It will also prove convenient to define an \"adapter function\" for\n",
    "fitting a linear model in R taking directly as arguments a matrix of\n",
    "gene expression values `x` and a vector of responses `y` instead\n",
    "of the more complex (though also much more flexible!) formula\n",
    "interface of `lm`:"
   ]
  },
  {
   "cell_type": "code",
   "execution_count": null,
   "metadata": {
  "kernelspec": {
   "display_name": "R",
   "language": "R",
   "name": "ir"
  },
  "language_info": {
   "codemirror_mode": "r",
   "file_extension": ".r",
   "mimetype": "text/x-r-source",
   "name": "R",
   "pygments_lexer": "r",
   "version": "4.0.0"
  }
 },
   "outputs": [],
   "source": [
    "linFitter = function(x, y) {\n",
    "    lm(y ~ ., data=data.frame(x, check.names=FALSE))\n",
    "}"
   ]
  },
  {
   "cell_type": "markdown",
   "metadata": {
  "kernelspec": {
   "display_name": "R",
   "language": "R",
   "name": "ir"
  },
  "language_info": {
   "codemirror_mode": "r",
   "file_extension": ".r",
   "mimetype": "text/x-r-source",
   "name": "R",
   "pygments_lexer": "r",
   "version": "4.0.0"
  }
 },
   "source": [
    "With these preliminaries out of the way, we can now fit our\n",
    "feature-selected linear model:"
   ]
  },
  {
   "cell_type": "code",
   "execution_count": null,
   "metadata": {
  "kernelspec": {
   "display_name": "R",
   "language": "R",
   "name": "ir"
  },
  "language_info": {
   "codemirror_mode": "r",
   "file_extension": ".r",
   "mimetype": "text/x-r-source",
   "name": "R",
   "pygments_lexer": "r",
   "version": "4.0.0"
  }
 },
   "outputs": [],
   "source": [
    "fsLinFit = featSelFit(\n",
    "    x = t(hessTrain),\n",
    "    y = hessTrainAnnot$DLDA30.Value,\n",
    "    selector = bindArgs(selectByPearsonCorrelation, m=10),\n",
    "    fitter = linFitter\n",
    ")\n",
    "fsLinTrainPreds = predict(fsLinFit, t(hessTrain))\n",
    " ## estimate R^2:\n",
    "cor(fsLinTrainPreds, hessTrainAnnot$DLDA30.Value)^2"
   ]
  },
  {
   "cell_type": "code",
   "execution_count": null,
   "metadata": {
  "kernelspec": {
   "display_name": "R",
   "language": "R",
   "name": "ir"
  },
  "language_info": {
   "codemirror_mode": "r",
   "file_extension": ".r",
   "mimetype": "text/x-r-source",
   "name": "R",
   "pygments_lexer": "r",
   "version": "4.0.0"
  }
 },
   "outputs": [],
   "source": [
    "qplot(fsLinTrainPreds, hessTrainAnnot$DLDA30.Value)"
   ]
  },
  {
   "cell_type": "markdown",
   "metadata": {
  "kernelspec": {
   "display_name": "R",
   "language": "R",
   "name": "ir"
  },
  "language_info": {
   "codemirror_mode": "r",
   "file_extension": ".r",
   "mimetype": "text/x-r-source",
   "name": "R",
   "pygments_lexer": "r",
   "version": "4.0.0"
  }
 },
   "source": [
    "Looks pretty good! Of course, this is comparing predictions to\n",
    "resubsitution-based predictions, so that may or may not be\n",
    "meaningful. Let's try looking at the test set predictions instead:"
   ]
  },
  {
   "cell_type": "code",
   "execution_count": null,
   "metadata": {
  "kernelspec": {
   "display_name": "R",
   "language": "R",
   "name": "ir"
  },
  "language_info": {
   "codemirror_mode": "r",
   "file_extension": ".r",
   "mimetype": "text/x-r-source",
   "name": "R",
   "pygments_lexer": "r",
   "version": "4.0.0"
  }
 },
   "outputs": [],
   "source": [
    "fsLinTestPreds = predict(fsLinFit, t(hessTest))\n",
    "cor(fsLinTestPreds, hessTestAnnot$DLDA30.Value)^2"
   ]
  },
  {
   "cell_type": "code",
   "execution_count": null,
   "metadata": {
  "kernelspec": {
   "display_name": "R",
   "language": "R",
   "name": "ir"
  },
  "language_info": {
   "codemirror_mode": "r",
   "file_extension": ".r",
   "mimetype": "text/x-r-source",
   "name": "R",
   "pygments_lexer": "r",
   "version": "4.0.0"
  }
 },
   "outputs": [],
   "source": [
    "qplot(fsLinTestPreds, hessTestAnnot$DLDA30.Value)"
   ]
  },
  {
   "cell_type": "markdown",
   "metadata": {
  "kernelspec": {
   "display_name": "R",
   "language": "R",
   "name": "ir"
  },
  "language_info": {
   "codemirror_mode": "r",
   "file_extension": ".r",
   "mimetype": "text/x-r-source",
   "name": "R",
   "pygments_lexer": "r",
   "version": "4.0.0"
  }
 },
   "source": [
    "Cross-validation can be useful with regression just as it is in\n",
    "classification, and can be performed using `caret::train` in a\n",
    "similar manner:"
   ]
  },
  {
   "cell_type": "code",
   "execution_count": null,
   "metadata": {
  "kernelspec": {
   "display_name": "R",
   "language": "R",
   "name": "ir"
  },
  "language_info": {
   "codemirror_mode": "r",
   "file_extension": ".r",
   "mimetype": "text/x-r-source",
   "name": "R",
   "pygments_lexer": "r",
   "version": "4.0.0"
  }
 },
   "outputs": [],
   "source": [
    "fsLinModCaretized = list(\n",
    "    library = NULL,\n",
    "    type = \"Regression\",    ## regression, not classification, this time\n",
    "    parameters = data.frame(parameter=\"m\", class=\"integer\", label=\"n_features\"),\n",
    "     ## we'll keep using 10 features (probe sets):\n",
    "    grid = function(x, y, len=NULL, ...) {data.frame(m=10)},\n",
    "    fit = function(x, y, param, ...) {\n",
    "        featSelFit(x,\n",
    "                   y,\n",
    "                   selector = bindArgs(selectByPearsonCorrelation, m=param$m),\n",
    "                   fitter = linFitter)\n",
    "    },\n",
    "    predict = function(modelFit, newdata, ...) {predict(modelFit, newdata, ...)},\n",
    "    prob = NULL             ## prob predictions unnecessary for regression\n",
    ")\n",
    "caretOut = train(x = t(hessTrain),\n",
    "                 y = hessTrainAnnot$DLDA30.Value,\n",
    "                 method = fsLinModCaretized,\n",
    "                 trControl = trainControl(method=\"cv\", number=5))\n",
    "caretOut"
   ]
  },
  {
   "cell_type": "markdown",
   "metadata": {
  "kernelspec": {
   "display_name": "R",
   "language": "R",
   "name": "ir"
  },
  "language_info": {
   "codemirror_mode": "r",
   "file_extension": ".r",
   "mimetype": "text/x-r-source",
   "name": "R",
   "pygments_lexer": "r",
   "version": "4.0.0"
  }
 },
   "source": [
    "Lest you get too excited about these results, I should disclose that\n",
    "`DLDA30.Value` is itself the output from a linear classification\n",
    "algorithm applied by Hess et al.\n\n",
    "Regressing Noise \n",
    "----------------\n",
    "\n",
    "Having seen what regression results look like from an ML standpoint\n",
    "when everything goes smoothly and there's a nice consistent and easily\n",
    "found signal shared by both training and test data sets, let's\n",
    "consider the opposite extreme of no real signal at all. To that end,\n",
    "we'll define a vector of output `noise` unrelated to any input\n",
    "feature:"
   ]
  },
  {
   "cell_type": "code",
   "execution_count": null,
   "metadata": {
  "kernelspec": {
   "display_name": "R",
   "language": "R",
   "name": "ir"
  },
  "language_info": {
   "codemirror_mode": "r",
   "file_extension": ".r",
   "mimetype": "text/x-r-source",
   "name": "R",
   "pygments_lexer": "r",
   "version": "4.0.0"
  }
 },
   "outputs": [],
   "source": [
    "set.seed(123)\n",
    "noise = rnorm(ncol(hessTrain))"
   ]
  },
  {
   "cell_type": "markdown",
   "metadata": {
  "kernelspec": {
   "display_name": "R",
   "language": "R",
   "name": "ir"
  },
  "language_info": {
   "codemirror_mode": "r",
   "file_extension": ".r",
   "mimetype": "text/x-r-source",
   "name": "R",
   "pygments_lexer": "r",
   "version": "4.0.0"
  }
 },
   "source": [
    "Let's also define one more convenience function for pulling the top\n",
    "few features by Pearson correlation:"
   ]
  },
  {
   "cell_type": "code",
   "execution_count": null,
   "metadata": {
  "kernelspec": {
   "display_name": "R",
   "language": "R",
   "name": "ir"
  },
  "language_info": {
   "codemirror_mode": "r",
   "file_extension": ".r",
   "mimetype": "text/x-r-source",
   "name": "R",
   "pygments_lexer": "r",
   "version": "4.0.0"
  }
 },
   "outputs": [],
   "source": [
    "topM = function(m) {bindArgs(selectByPearsonCorrelation, m=m)}"
   ]
  },
  {
   "cell_type": "markdown",
   "metadata": {
  "kernelspec": {
   "display_name": "R",
   "language": "R",
   "name": "ir"
  },
  "language_info": {
   "codemirror_mode": "r",
   "file_extension": ".r",
   "mimetype": "text/x-r-source",
   "name": "R",
   "pygments_lexer": "r",
   "version": "4.0.0"
  }
 },
   "source": [
    "Onto fitting the noise:"
   ]
  },
  {
   "cell_type": "code",
   "execution_count": null,
   "metadata": {
  "kernelspec": {
   "display_name": "R",
   "language": "R",
   "name": "ir"
  },
  "language_info": {
   "codemirror_mode": "r",
   "file_extension": ".r",
   "mimetype": "text/x-r-source",
   "name": "R",
   "pygments_lexer": "r",
   "version": "4.0.0"
  }
 },
   "outputs": [],
   "source": [
    "fsNoiseFit = featSelFit(t(hessTrain), noise, topM(10), linFitter)\n",
    "fsLinNoisePreds = predict(fsNoiseFit, t(hessTrain))\n",
    "cor(fsLinNoisePreds, noise)^2"
   ]
  },
  {
   "cell_type": "code",
   "execution_count": null,
   "metadata": {
  "kernelspec": {
   "display_name": "R",
   "language": "R",
   "name": "ir"
  },
  "language_info": {
   "codemirror_mode": "r",
   "file_extension": ".r",
   "mimetype": "text/x-r-source",
   "name": "R",
   "pygments_lexer": "r",
   "version": "4.0.0"
  }
 },
   "outputs": [],
   "source": [
    "qplot(fsLinNoisePreds, noise)"
   ]
  },
  {
   "cell_type": "markdown",
   "metadata": {
  "kernelspec": {
   "display_name": "R",
   "language": "R",
   "name": "ir"
  },
  "language_info": {
   "codemirror_mode": "r",
   "file_extension": ".r",
   "mimetype": "text/x-r-source",
   "name": "R",
   "pygments_lexer": "r",
   "version": "4.0.0"
  }
 },
   "source": [
    "A resubstitution-estimated $R^2$ value of\n",
    "47.5%---that's clearly overfit!\n",
    "Cross-validation to the rescue:"
   ]
  },
  {
   "cell_type": "code",
   "execution_count": null,
   "metadata": {
  "kernelspec": {
   "display_name": "R",
   "language": "R",
   "name": "ir"
  },
  "language_info": {
   "codemirror_mode": "r",
   "file_extension": ".r",
   "mimetype": "text/x-r-source",
   "name": "R",
   "pygments_lexer": "r",
   "version": "4.0.0"
  }
 },
   "outputs": [],
   "source": [
    "fsLinModCaretized = list(\n",
    "    library = NULL,\n",
    "    type = \"Regression\",\n",
    "    parameters = data.frame(parameter=\"m\", class=\"integer\", label=\"n_features\"),\n",
    "    grid = function(x, y, len=NULL, ...) {data.frame(m=10)},\n",
    "    fit = function(x, y, param, ...) {\n",
    "        featSelFit(x, y, topM(param$m), linFitter)\n",
    "    },\n",
    "    predict = function(modelFit, newdata, ...) {predict(modelFit, newdata, ...)},\n",
    "    prob = NULL\n",
    ")\n",
    "caretNoise = train(t(hessTrain), noise, fsLinModCaretized,\n",
    "                   trControl = trainControl(method=\"cv\", number=5))\n",
    "caretNoise"
   ]
  },
  {
   "cell_type": "markdown",
   "metadata": {
  "kernelspec": {
   "display_name": "R",
   "language": "R",
   "name": "ir"
  },
  "language_info": {
   "codemirror_mode": "r",
   "file_extension": ".r",
   "mimetype": "text/x-r-source",
   "name": "R",
   "pygments_lexer": "r",
   "version": "4.0.0"
  }
 },
   "source": [
    "Notice that we've been (correctly) keeping the feature selection step\n",
    "\"under cross-validation,\" meaning that we re-select a (potentially\n",
    "different!) feature set in each fold of cross-validation making sure\n",
    "to exclude the held-out samples from the calculation of feature scores\n",
    "(Pearson correlations here). This is very important---feature\n",
    "selection is a supervised ML step and can be very sensitive to\n",
    "overfitting!\n",
    "\n",
    "In order to demonstrate this, let's see what happens if we incorrectly\n",
    "apply feature selection prior to cross-validation of only the\n",
    "regression fitting step:"
   ]
  },
  {
   "cell_type": "code",
   "execution_count": null,
   "metadata": {
  "kernelspec": {
   "display_name": "R",
   "language": "R",
   "name": "ir"
  },
  "language_info": {
   "codemirror_mode": "r",
   "file_extension": ".r",
   "mimetype": "text/x-r-source",
   "name": "R",
   "pygments_lexer": "r",
   "version": "4.0.0"
  }
 },
   "outputs": [],
   "source": [
    " ## how much overfitting results from feature selection alone?\n",
    "topFeatsWholeTrain = data.frame(\n",
    "    t(hessTrain)[ , fsNoiseFit$features],  ## re-use features from fsNoiseFit above\n",
    "    check.names = FALSE\n",
    ")\n",
    "noSelectionLinModCaretized = list(\n",
    "    library = NULL,\n",
    "    type = \"Regression\",\n",
    "     ## define unused dummy parameter to keep caret happy\n",
    "    parameters = data.frame(parameter=\"dummy\", class=\"integer\", label=\"dummy\"),\n",
    "    grid = function(x, y, len=NULL, ...) {data.frame(dummy=0)},\n",
    "    fit = function(x, y, param, ...) {linFitter(x, y)},\n",
    "    predict = function(modelFit, newdata, ...) {\n",
    "        predict(modelFit, newdata, ...)\n",
    "    },\n",
    "    prob = NULL\n",
    ")\n",
    "badCaret = train(x = topFeatsWholeTrain,\n",
    "                 y = noise,\n",
    "                 method = noSelectionLinModCaretized,\n",
    "                 trControl = trainControl(method=\"cv\", number=5))\n",
    "badCaret"
   ]
  },
  {
   "cell_type": "markdown",
   "metadata": {
  "kernelspec": {
   "display_name": "R",
   "language": "R",
   "name": "ir"
  },
  "language_info": {
   "codemirror_mode": "r",
   "file_extension": ".r",
   "mimetype": "text/x-r-source",
   "name": "R",
   "pygments_lexer": "r",
   "version": "4.0.0"
  }
 },
   "source": [
    "So, to sum up: $R^2$ of\n",
    "40.2% (exact value may vary depending on cross-validation folds) for pure,\n",
    "feature-independent noise using \"cross-validation\" but forgetting to\n",
    "take the overfitting resulting from feature selection into account,\n",
    "compared to an estimate of $R^2$ =\n",
    "3.1% when\n",
    "cross-validation is done correctly! Always, always, *always* keep\n",
    "feature selection under cross-validation.\n\n",
    "Regularization \n",
    "==============\n",
    "\n",
    "Let's go back and look at a couple of the probe sets chosen among the\n",
    "ten features used to predict `DLDA30.Value` above:"
   ]
  },
  {
   "cell_type": "code",
   "execution_count": null,
   "metadata": {
  "kernelspec": {
   "display_name": "R",
   "language": "R",
   "name": "ir"
  },
  "language_info": {
   "codemirror_mode": "r",
   "file_extension": ".r",
   "mimetype": "text/x-r-source",
   "name": "R",
   "pygments_lexer": "r",
   "version": "4.0.0"
  }
 },
   "outputs": [],
   "source": [
    "twoProbeSets = c(\"203928_x_at\", \"203929_s_at\")\n",
    "twoProbeSets %in% fsLinFit$features"
   ]
  },
  {
   "cell_type": "code",
   "execution_count": null,
   "metadata": {
  "kernelspec": {
   "display_name": "R",
   "language": "R",
   "name": "ir"
  },
  "language_info": {
   "codemirror_mode": "r",
   "file_extension": ".r",
   "mimetype": "text/x-r-source",
   "name": "R",
   "pygments_lexer": "r",
   "version": "4.0.0"
  }
 },
   "outputs": [],
   "source": [
    "qplot(t(hessTrain)[ , twoProbeSets[1]], t(hessTrain)[ , twoProbeSets[2]])"
   ]
  },
  {
   "cell_type": "markdown",
   "metadata": {
  "kernelspec": {
   "display_name": "R",
   "language": "R",
   "name": "ir"
  },
  "language_info": {
   "codemirror_mode": "r",
   "file_extension": ".r",
   "mimetype": "text/x-r-source",
   "name": "R",
   "pygments_lexer": "r",
   "version": "4.0.0"
  }
 },
   "source": [
    "That's interesting---the measured expression values of these two probe\n",
    "sets are quite similar! There is in fact a good explanation for this:"
   ]
  },
  {
   "cell_type": "code",
   "execution_count": null,
   "metadata": {
  "kernelspec": {
   "display_name": "R",
   "language": "R",
   "name": "ir"
  },
  "language_info": {
   "codemirror_mode": "r",
   "file_extension": ".r",
   "mimetype": "text/x-r-source",
   "name": "R",
   "pygments_lexer": "r",
   "version": "4.0.0"
  }
 },
   "outputs": [],
   "source": [
    "probeAnnot[twoProbeSets, \"Gene.Symbol\"]"
   ]
  },
  {
   "cell_type": "markdown",
   "metadata": {
  "kernelspec": {
   "display_name": "R",
   "language": "R",
   "name": "ir"
  },
  "language_info": {
   "codemirror_mode": "r",
   "file_extension": ".r",
   "mimetype": "text/x-r-source",
   "name": "R",
   "pygments_lexer": "r",
   "version": "4.0.0"
  }
 },
   "source": [
    "Microarrays often have multiple probe sets targeting the same gene,\n",
    "and, as a result, in many---though not all!---cases, these probe sets\n",
    "will pick up very similar signals. If one such probe set is correlated\n",
    "with the desired output to be predicted, the other will thus also tend\n",
    "to exhibit such correlation; this is what is happening here.\n",
    "\n",
    "Given this build up, one might expect that the linear model fit using\n",
    "these features (along with 8 others in this case) would assign similar\n",
    "coefficients to both. Does it?"
   ]
  },
  {
   "cell_type": "code",
   "execution_count": null,
   "metadata": {
  "kernelspec": {
   "display_name": "R",
   "language": "R",
   "name": "ir"
  },
  "language_info": {
   "codemirror_mode": "r",
   "file_extension": ".r",
   "mimetype": "text/x-r-source",
   "name": "R",
   "pygments_lexer": "r",
   "version": "4.0.0"
  }
 },
   "outputs": [],
   "source": [
    "coef(fsLinFit$fit)[paste0(\"\\`\", twoProbeSets, \"\\`\")]"
   ]
  },
  {
   "cell_type": "markdown",
   "metadata": {
  "kernelspec": {
   "display_name": "R",
   "language": "R",
   "name": "ir"
  },
  "language_info": {
   "codemirror_mode": "r",
   "file_extension": ".r",
   "mimetype": "text/x-r-source",
   "name": "R",
   "pygments_lexer": "r",
   "version": "4.0.0"
  }
 },
   "source": [
    "Not so much---not only are the magnitudes of the coefficients very\n",
    "different, but they even have opposite signs!\n",
    "\n",
    "Lest you think that perhaps the linear model has found some useful\n",
    "difference between these two probe sets that isn't immediately\n",
    "apparent to us in the Hess data set, consider the following simulated\n",
    "example:"
   ]
  },
  {
   "cell_type": "code",
   "execution_count": null,
   "metadata": {
  "kernelspec": {
   "display_name": "R",
   "language": "R",
   "name": "ir"
  },
  "language_info": {
   "codemirror_mode": "r",
   "file_extension": ".r",
   "mimetype": "text/x-r-source",
   "name": "R",
   "pygments_lexer": "r",
   "version": "4.0.0"
  }
 },
   "outputs": [],
   "source": [
    "x = matrix(rnorm(20), nrow=10, ncol=2)\n",
    "x[ , 2] = x[ , 1] + 0.01 * x[ , 2]      ## force approximate collinearity\n",
    "y = -x[ , 1] - x[ , 2] + rnorm(10)      ## true beta_1 = beta_2 = -1\n",
    "coef(lm(y ~ ., data=data.frame(x)))"
   ]
  },
  {
   "cell_type": "markdown",
   "metadata": {
  "kernelspec": {
   "display_name": "R",
   "language": "R",
   "name": "ir"
  },
  "language_info": {
   "codemirror_mode": "r",
   "file_extension": ".r",
   "mimetype": "text/x-r-source",
   "name": "R",
   "pygments_lexer": "r",
   "version": "4.0.0"
  }
 },
   "source": [
    "This is in fact a well-known artifact of linear models often referred\n",
    "to as the problem of multicollinearity. One way of dealing with it is\n",
    "to manually remove variables one at a time until you've gotten rid of\n",
    "it, but since this is a course in machine learning we will not do\n",
    "that.\n",
    "\n",
    "An alternate solution is to modify the algorithm for fitting a linear\n",
    "model by incorporating something called *regularization*.\n",
    "\n",
    "Unregularized (standard) linear regression uses maximum likelihood to\n",
    "fit the coefficients $\\beta_g$, where $g$ indexes features $g$, by\n",
    "ordinary least-squares (OLS) estimator:\n",
    "$$\\label{eq:ols}\n",
    "\\hat{\\beta}_0, \\hat{\\boldsymbol{\\beta}} =\n",
    "\\underset{\\beta_0, \\boldsymbol{\\beta}}{\n",
    "  \\operatorname{arg\\,min}} \\,\n",
    "    \\sum\\limits_i \\left(\n",
    "       y_i - \\beta_0 - \\boldsymbol{\\beta} \\cdot \\mathbf{x}_i\n",
    "    \\right)^2$$\n",
    "\n",
    "where $\\mathbf{x}_i$ is the vector of feature values $x_{ig}$ for\n",
    "sampling unit $i$, is the vector of coefficients $\\beta_g$, and\n",
    "$\\boldsymbol{\\beta} \\cdot \\mathbf{x}_i = \\sum_g \\beta_g x_{ig}$ is the\n",
    "\"dot product\" of the two vectors.\n",
    "\n",
    "Since $\\hat{y}_i = \\beta_0 + \\boldsymbol{\\beta} \\cdot \\mathbf{x}_i$ is\n",
    "the formula applied by linear regression to predict the value $y_i$\n",
    "for sampling unit $i$, Eq [eq:ols](#eq:ols) says we want to choose the\n",
    "coefficients $\\beta_g$ to minimize the sum of squared\n",
    "*error residuals* $y_i - \\hat{y}_i$.\n",
    "\n",
    "Regularization modifies Eq [eq:ols](#eq:ols) by adding a penalty term:\n",
    "$$\\label{eq:ols-penalized}\n",
    "\\hat{\\beta}_0, \\hat{\\boldsymbol{\\beta}} =\n",
    "\\underset{\\beta_0, \\boldsymbol{\\beta}}{\n",
    "  \\operatorname{arg\\,min}} \\, \\left\\{ \\,\n",
    "    \\sum\\limits_i \\left(\n",
    "       y_i - \\beta_0 - \\boldsymbol{\\beta} \\cdot \\mathbf{x}_i\n",
    "    \\right)^2 + \\phi \\sum\\limits_g \\left| \\beta_g \\right|^p \\right\\}$$\n",
    "\n",
    "where the exponent $p=1$ for L1, or \"lasso,\" regression\n",
    "([@tibshirani1996regression]), or $p=2$ for L2, or \"ridge,\"\n",
    "regression ([@tikhonov1943stability; @hoerl1962application]). This\n",
    "has the effect of biasing the choice of coefficients $\\beta_g$ towards\n",
    "0 by an amount dependent on the strength of the $\\phi$ of the\n",
    "regulaization applied.\n",
    "\n",
    "(If you're partial to Bayesian statistics, you might find it\n",
    "interesting to note that L1 regression can be derived from assuming a\n",
    "Laplace-distributed prior for the coefficients $\\beta_g$, while L2\n",
    "regression can similarly be derived assuming a more pedestrian\n",
    "Gaussian-distributed prior for the $\\beta_g$ [@park2008bayesian].)\n",
    "Let's try L2 regularization out using the `glmnet` package (one\n",
    "advantage of which is automated selection of regularization strength\n",
    "parameter):"
   ]
  },
  {
   "cell_type": "code",
   "execution_count": null,
   "metadata": {
  "kernelspec": {
   "display_name": "R",
   "language": "R",
   "name": "ir"
  },
  "language_info": {
   "codemirror_mode": "r",
   "file_extension": ".r",
   "mimetype": "text/x-r-source",
   "name": "R",
   "pygments_lexer": "r",
   "version": "4.0.0"
  }
 },
   "outputs": [],
   "source": [
    " ## regularizedGLM, defined in maclearn_utils_2020.R,\n",
    " ## wraps glmnet to facilitate autmated lambda selection\n",
    " ## (lambda controls regularization strength)\n",
    " ## - alpha=0 is L2/ridge regression; alpha=1 is L1/lasso\n",
    "l2mod = regularizedGLM(x, y, alpha=0)\n",
    "coef(l2mod)"
   ]
  },
  {
   "cell_type": "markdown",
   "metadata": {
  "kernelspec": {
   "display_name": "R",
   "language": "R",
   "name": "ir"
  },
  "language_info": {
   "codemirror_mode": "r",
   "file_extension": ".r",
   "mimetype": "text/x-r-source",
   "name": "R",
   "pygments_lexer": "r",
   "version": "4.0.0"
  }
 },
   "source": [
    "That looks better! What if we try L1 regularization?"
   ]
  },
  {
   "cell_type": "code",
   "execution_count": null,
   "metadata": {
  "kernelspec": {
   "display_name": "R",
   "language": "R",
   "name": "ir"
  },
  "language_info": {
   "codemirror_mode": "r",
   "file_extension": ".r",
   "mimetype": "text/x-r-source",
   "name": "R",
   "pygments_lexer": "r",
   "version": "4.0.0"
  }
 },
   "outputs": [],
   "source": [
    "l1mod = regularizedGLM(x, y, alpha=1)\n",
    "coef(l1mod)"
   ]
  },
  {
   "cell_type": "markdown",
   "metadata": {
  "kernelspec": {
   "display_name": "R",
   "language": "R",
   "name": "ir"
  },
  "language_info": {
   "codemirror_mode": "r",
   "file_extension": ".r",
   "mimetype": "text/x-r-source",
   "name": "R",
   "pygments_lexer": "r",
   "version": "4.0.0"
  }
 },
   "source": [
    "In this case, L1 doesn't look so great, but before you write it off,\n",
    "let me give you a bit of background. L2 regularization is older, much\n",
    "easier (and faster) to fit, and tends to \"split the difference\"\n",
    "between collinear predictors---as it did here---while L1\n",
    "regularization is newer, trickier (and slower) to fit, while tending\n",
    "to pick a few variables to assign high magnitude coefficients to while\n",
    "giving all others either exactly 0 or very low magnitudes. That is,\n",
    "L1/lasso regularization is essentially an *embedded feature selection*\n",
    "algorithm!\n",
    "\n",
    "The multicollinearity problem becomes increasingly severe as the\n",
    "dimensionality of the data set increases until it breaks the classical\n",
    "linear modeling framework entirely when the number of features exceeds\n",
    "the number of sampling units in the training set. Regularization fixes\n",
    "this and allows fitting such \"overparametrized\" linear models.\n\n",
    "Logistic Regression \n",
    "===================\n",
    "\n",
    "Linear models can be used for classification as well as\n",
    "regression. The most popular linear model for classification goes\n",
    "under the confusing name \"logistic regression,\" despite the fact\n",
    "that it is indeed a classication algorithm.\n",
    "\n",
    "The idea of logistic regression is to build a linear model to predict\n",
    "the \"logit-transformed\" probability that a sampling unit should be\n",
    "given a classification label $y=1$ (as opposed to the other possible\n",
    "label $y=0$), where the logit function is\n",
    "$$\\label{eq:logit-function}\n",
    "\\text{logit}(p) = \\log\\left(\\frac{p}{1-p}\\right)$$\n",
    "The logit function stretches the range of probabilities (from 0 to 1)\n",
    "out to range all the way from $-\\infty$ to $+\\infty$: this is good\n",
    "because it turns out to be difficult to fit linear models well in such\n",
    "a way as to constrict the output range to a narrow interval like 0 to\n",
    "1.\n",
    "\n",
    "It turns out that if the coefficients $\\beta_g$ are a linear model for\n",
    "$\\text{logit}(p)$, then the predicted probability of the\n",
    "classification label $y$ taking the value 1 (i.e. whichever class has\n",
    "been declared \"positive\") for a sampling unit with feature values\n",
    "$x_g$ wrapped up into vector $\\mathbf{x}$ is\n",
    "$$\\label{eq:logistic}\n",
    "\\hat{p} = \\text{expit}(\\beta_0 + \\boldsymbol{\\beta} \\cdot \\mathbf{x})$$\n",
    "where\n",
    "$$\\label{eq:expit}\n",
    "\\text{expit}(u) = \\frac{1}{1+\\text{exp}(-u)}$$\n",
    "is the *logistic*, or inverse-logit, function. Eq\n",
    "[eq:logistic](#eq:logistic) holds because expit is indeed the functional\n",
    "inverse of the logit function:\n",
    "$\\text{expit}\\!\\left(\\text{logit}(p)\\right) = p$ for all\n",
    "$p \\in (0, 1)$ .\n",
    "\n",
    "Logistic regression is a type of *generalized linear model*, or\n",
    "GLM ([@nelder1972generalized; @agresti2015foundations])."
   ]
  },
  {
   "cell_type": "code",
   "execution_count": null,
   "metadata": {
  "kernelspec": {
   "display_name": "R",
   "language": "R",
   "name": "ir"
  },
  "language_info": {
   "codemirror_mode": "r",
   "file_extension": ".r",
   "mimetype": "text/x-r-source",
   "name": "R",
   "pygments_lexer": "r",
   "version": "4.0.0"
  }
 },
   "outputs": [],
   "source": [
    "logisticFitter = function(x, y) {\n",
    "    glm(formula = y ~ .,\n",
    "        data = data.frame(x, y=y, check.names=FALSE),\n",
    "        family = binomial)  ## family=binomial for logistic regression\n",
    "}"
   ]
  },
  {
   "cell_type": "markdown",
   "metadata": {
  "kernelspec": {
   "display_name": "R",
   "language": "R",
   "name": "ir"
  },
  "language_info": {
   "codemirror_mode": "r",
   "file_extension": ".r",
   "mimetype": "text/x-r-source",
   "name": "R",
   "pygments_lexer": "r",
   "version": "4.0.0"
  }
 },
   "source": [
    "Logistic regression suffers from the same sort of multicollinearity\n",
    "problems as linear regression and hence requires one (or more) of\n",
    "feature selection, feature extraction, and/or regularization for\n",
    "application in high-dimensional (more features than sampling units)\n",
    "contexts. Here we'll connect our $t$-test feature selector upstream of\n",
    "a `logisticFitter` in a simple ML pipeline:"
   ]
  },
  {
   "cell_type": "code",
   "execution_count": null,
   "metadata": {
  "kernelspec": {
   "display_name": "R",
   "language": "R",
   "name": "ir"
  },
  "language_info": {
   "codemirror_mode": "r",
   "file_extension": ".r",
   "mimetype": "text/x-r-source",
   "name": "R",
   "pygments_lexer": "r",
   "version": "4.0.0"
  }
 },
   "outputs": [],
   "source": [
    "fsLogisticFit = featSelFit(x = t(hessTrain),\n",
    "                           y = hessTrainY,\n",
    "                           selector = bindArgs(selectByTTest, m=10),\n",
    "                           fitter = logisticFitter)\n",
    "fsLogisticTestPreds = predict(\n",
    "    fsLogisticFit,\n",
    "     ## predict.glm wants newdata as data.frame, not matrix:\n",
    "    data.frame(t(hessTest), check.names=FALSE)\n",
    ")\n",
    " ## predict.glm returns vector, not matrix!\n",
    " ## - these are logit-transformed probabilities, hence may be <0 or >1\n",
    "head(fsLogisticTestPreds)"
   ]
  },
  {
   "cell_type": "markdown",
   "metadata": {
  "kernelspec": {
   "display_name": "R",
   "language": "R",
   "name": "ir"
  },
  "language_info": {
   "codemirror_mode": "r",
   "file_extension": ".r",
   "mimetype": "text/x-r-source",
   "name": "R",
   "pygments_lexer": "r",
   "version": "4.0.0"
  }
 },
   "source": [
    "With `glm`, it's easiest to generate class predictions by simply\n",
    "discretizing the logit-transformed prediction vector using `ifelse`:"
   ]
  },
  {
   "cell_type": "code",
   "execution_count": null,
   "metadata": {
  "kernelspec": {
   "display_name": "R",
   "language": "R",
   "name": "ir"
  },
  "language_info": {
   "codemirror_mode": "r",
   "file_extension": ".r",
   "mimetype": "text/x-r-source",
   "name": "R",
   "pygments_lexer": "r",
   "version": "4.0.0"
  }
 },
   "outputs": [],
   "source": [
    " ## threshold 0 below b/c logit-transformed p, not p itself!\n",
    " ## - note that logit(0.5) = log(0.5/0.5) = 0\n",
    "fsLogisticTestPredClass = factor(ifelse(\n",
    "    fsLogisticTestPreds < 0, \"pCR\", \"RD\"\n",
    "))\n",
    "contingency = table(fsLogisticTestPredClass, hessTestY)\n",
    "contingency"
   ]
  },
  {
   "cell_type": "markdown",
   "metadata": {
  "kernelspec": {
   "display_name": "R",
   "language": "R",
   "name": "ir"
  },
  "language_info": {
   "codemirror_mode": "r",
   "file_extension": ".r",
   "mimetype": "text/x-r-source",
   "name": "R",
   "pygments_lexer": "r",
   "version": "4.0.0"
  }
 },
   "source": [
    "Let's take a look at the features selected by the pipeline here:"
   ]
  },
  {
   "cell_type": "code",
   "execution_count": null,
   "metadata": {
  "kernelspec": {
   "display_name": "R",
   "language": "R",
   "name": "ir"
  },
  "language_info": {
   "codemirror_mode": "r",
   "file_extension": ".r",
   "mimetype": "text/x-r-source",
   "name": "R",
   "pygments_lexer": "r",
   "version": "4.0.0"
  }
 },
   "outputs": [],
   "source": [
    "fsLogisticFit$features"
   ]
  },
  {
   "cell_type": "code",
   "execution_count": null,
   "metadata": {
  "kernelspec": {
   "display_name": "R",
   "language": "R",
   "name": "ir"
  },
  "language_info": {
   "codemirror_mode": "r",
   "file_extension": ".r",
   "mimetype": "text/x-r-source",
   "name": "R",
   "pygments_lexer": "r",
   "version": "4.0.0"
  }
 },
   "outputs": [],
   "source": [
    "probeAnnot[fsLogisticFit$features, \"Gene.Symbol\"]"
   ]
  },
  {
   "cell_type": "markdown",
   "metadata": {
  "kernelspec": {
   "display_name": "R",
   "language": "R",
   "name": "ir"
  },
  "language_info": {
   "codemirror_mode": "r",
   "file_extension": ".r",
   "mimetype": "text/x-r-source",
   "name": "R",
   "pygments_lexer": "r",
   "version": "4.0.0"
  }
 },
   "source": [
    "Once again we see two probe sets for the same gene (BTG3 in this case)\n",
    "showing up!"
   ]
  },
  {
   "cell_type": "code",
   "execution_count": null,
   "metadata": {
  "kernelspec": {
   "display_name": "R",
   "language": "R",
   "name": "ir"
  },
  "language_info": {
   "codemirror_mode": "r",
   "file_extension": ".r",
   "mimetype": "text/x-r-source",
   "name": "R",
   "pygments_lexer": "r",
   "version": "4.0.0"
  }
 },
   "outputs": [],
   "source": [
    "qplot(t(hessTrain)[ , fsLogisticFit$features[1]],\n",
    "      t(hessTrain)[ , fsLogisticFit$features[2]])"
   ]
  },
  {
   "cell_type": "markdown",
   "metadata": {
  "kernelspec": {
   "display_name": "R",
   "language": "R",
   "name": "ir"
  },
  "language_info": {
   "codemirror_mode": "r",
   "file_extension": ".r",
   "mimetype": "text/x-r-source",
   "name": "R",
   "pygments_lexer": "r",
   "version": "4.0.0"
  }
 },
   "source": [
    "These two are even more tightly correlated than the two probe sets we\n",
    "ran into in the noise modeling excercise above! Let's check their\n",
    "coefficients in the logistic fit:"
   ]
  },
  {
   "cell_type": "code",
   "execution_count": null,
   "metadata": {
  "kernelspec": {
   "display_name": "R",
   "language": "R",
   "name": "ir"
  },
  "language_info": {
   "codemirror_mode": "r",
   "file_extension": ".r",
   "mimetype": "text/x-r-source",
   "name": "R",
   "pygments_lexer": "r",
   "version": "4.0.0"
  }
 },
   "outputs": [],
   "source": [
    "coef(fsLogisticFit$fit)[2:3]"
   ]
  },
  {
   "cell_type": "markdown",
   "metadata": {
  "kernelspec": {
   "display_name": "R",
   "language": "R",
   "name": "ir"
  },
  "language_info": {
   "codemirror_mode": "r",
   "file_extension": ".r",
   "mimetype": "text/x-r-source",
   "name": "R",
   "pygments_lexer": "r",
   "version": "4.0.0"
  }
 },
   "source": [
    "Once again despite the highly similar measured expression values\n",
    "associated with the two probe sets, the coefficients take opposite\n",
    "signs! This logistic model fit will likely be improved by\n",
    "regularization:"
   ]
  },
  {
   "cell_type": "code",
   "execution_count": null,
   "metadata": {
  "kernelspec": {
   "display_name": "R",
   "language": "R",
   "name": "ir"
  },
  "language_info": {
   "codemirror_mode": "r",
   "file_extension": ".r",
   "mimetype": "text/x-r-source",
   "name": "R",
   "pygments_lexer": "r",
   "version": "4.0.0"
  }
 },
   "outputs": [],
   "source": [
    "fsRegLogisticFit = featSelFit(\n",
    "    x = t(hessTrain),\n",
    "    y = hessTrainY,\n",
    "    selector = bindArgs(selectByTTest, m=10),\n",
    "    fitter = bindArgs(regularizedGLM, family=\"binomial\", alpha=0)\n",
    ")\n",
    "coef(fsRegLogisticFit$fit)[2:3]"
   ]
  },
  {
   "cell_type": "markdown",
   "metadata": {
  "kernelspec": {
   "display_name": "R",
   "language": "R",
   "name": "ir"
  },
  "language_info": {
   "codemirror_mode": "r",
   "file_extension": ".r",
   "mimetype": "text/x-r-source",
   "name": "R",
   "pygments_lexer": "r",
   "version": "4.0.0"
  }
 },
   "source": [
    "So when L2 regularization is used in fitting logistic regression\n",
    "model, the coefficients for the two probe sets for BTG3 are almost\n",
    "identical (and of much more plausible magnitude as well!). Does\n",
    "regularization effect the test set predictions?"
   ]
  },
  {
   "cell_type": "code",
   "execution_count": null,
   "metadata": {
  "kernelspec": {
   "display_name": "R",
   "language": "R",
   "name": "ir"
  },
  "language_info": {
   "codemirror_mode": "r",
   "file_extension": ".r",
   "mimetype": "text/x-r-source",
   "name": "R",
   "pygments_lexer": "r",
   "version": "4.0.0"
  }
 },
   "outputs": [],
   "source": [
    "fsRegLogisticTestPreds = predict(fsRegLogisticFit, t(hessTest))\n",
    "head(fsRegLogisticTestPreds)"
   ]
  },
  {
   "cell_type": "code",
   "execution_count": null,
   "metadata": {
  "kernelspec": {
   "display_name": "R",
   "language": "R",
   "name": "ir"
  },
  "language_info": {
   "codemirror_mode": "r",
   "file_extension": ".r",
   "mimetype": "text/x-r-source",
   "name": "R",
   "pygments_lexer": "r",
   "version": "4.0.0"
  }
 },
   "outputs": [],
   "source": [
    "fsRegLogisticTestPredClass =\n",
    "        predict(fsRegLogisticFit, t(hessTest), type=\"class\")\n",
    "table(fsRegLogisticTestPredClass, hessTestY)"
   ]
  },
  {
   "cell_type": "markdown",
   "metadata": {
  "kernelspec": {
   "display_name": "R",
   "language": "R",
   "name": "ir"
  },
  "language_info": {
   "codemirror_mode": "r",
   "file_extension": ".r",
   "mimetype": "text/x-r-source",
   "name": "R",
   "pygments_lexer": "r",
   "version": "4.0.0"
  }
 },
   "source": [
    "In this case, regularization produces a model with slightly improved\n",
    "overall accuracy, accurately calling one more pCR and one more RD\n",
    "sample. Beyond this small improvement in estimated model performance,\n",
    "I'd also argue that the regularized model is superior in that the\n",
    "coefficients are more easily interpretable because they do not\n",
    "artificially differentiate between two probe sets for the same\n",
    "underlying gene which show negligible differences in measured\n",
    "expression values.\n",
    "\n",
    "We could also analyze the performance of either or both of the\n",
    "regularized and unregularized feature-selected logistic classification\n",
    "pipelines in the test set using cross validation just as we did with\n",
    "the knn pipelines, but as it doesn't introduce any new concepts I will\n",
    "in the interests of time instead move on.\n\n",
    "DLDA and Naive Bayes \n",
    "====================\n",
    "\n",
    "\"Naive Bayes\" describes a family of statistical classification\n",
    "methods sharing the common assumption that the feature values are\n",
    "conditionally independent of each other within each class $y$\n",
    "([@lewis1998naive]):\n",
    "$$\\label{eq:naive-bayes-assumption}\n",
    "\\mathbb{P}(\\mathbf{X}=\\mathbf{x} \\mid Y=y) =\n",
    "        \\prod\\limits_g {\\mathbb{P}(X_g=x_g \\mid Y=y)}$$\n",
    "Eq [eq:naive-bayes-assumption](#eq:naive-bayes-assumption) can be substituted into Bayes'\n",
    "formula to calculate classification probabilities:\n",
    "$$\\label{eq:naive-bayes-classification}\n",
    "\\mathbb{P}(Y=y \\mid \\mathbf{X}=\\mathbf{x}) = \\frac{\n",
    "    \\pi_y \\prod\\limits_g {\\mathbb{P}(X_g=x_g \\mid Y=y)}\n",
    "}{\n",
    "    \\sum\\limits_{y'} \\pi_{y'} {\\prod\\limits_g {\\mathbb{P}(X_g=x_g \\mid Y=y')}}\n",
    "}$$\n",
    "\n",
    "where $\\pi_y = \\mathbb{P}(Y=y)$ is the marginal probability (often\n",
    "called a \"prior probability\" in this context) of class $y$ given no\n",
    "information about the feature values $\\mathbf{x}$.\n",
    "\n",
    "Diagonal linear discriminant analysis, or DLDA, is a form of naive\n",
    "Bayes classification with the additional assumption that\n",
    "$\\text{logit}(\\mathbb{P}(Y=1 \\mid \\mathbf{X}=\\mathbf{x})$ is linear in\n",
    "$\\mathbf{x}$, as will be the case if the conditional probability densities\n",
    "for $\\mathbf{X} \\mid Y=0$ and $\\mathbf{X} \\mid Y=1$\n",
    "are both Gaussian with different means but the same (diagonal) covariance\n",
    "([@dudoit2002comparison]). This linearity assumption is\n",
    "shared with logistic regression, though logistic regression generally\n",
    "does *not* make the naive Bayes assumption of Eq\n",
    "[eq:naive-bayes-assumption](#eq:naive-bayes-assumption) and thus usually results in\n",
    "different fit model coefficients.\n",
    "\n",
    "Before we take a look at DLDA itself, let's simplify our data by first\n",
    "extracting the features \"manually\" (this is kosher only because\n",
    "we're not going to do (biased) performance estimation here, just examine\n",
    "the resulting model coefficients!):"
   ]
  },
  {
   "cell_type": "code",
   "execution_count": null,
   "metadata": {
  "kernelspec": {
   "display_name": "R",
   "language": "R",
   "name": "ir"
  },
  "language_info": {
   "codemirror_mode": "r",
   "file_extension": ".r",
   "mimetype": "text/x-r-source",
   "name": "R",
   "pygments_lexer": "r",
   "version": "4.0.0"
  }
 },
   "outputs": [],
   "source": [
    " ## extract feature values for selected features to simplify example\n",
    "featData = t(hessTrain)[ , fsLogisticFit$features]\n",
    " ## center features to 0 mean and scale to unit variance:\n",
    "featData = scale(featData, center=TRUE, scale=TRUE)"
   ]
  },
  {
   "cell_type": "markdown",
   "metadata": {
  "kernelspec": {
   "display_name": "R",
   "language": "R",
   "name": "ir"
  },
  "language_info": {
   "codemirror_mode": "r",
   "file_extension": ".r",
   "mimetype": "text/x-r-source",
   "name": "R",
   "pygments_lexer": "r",
   "version": "4.0.0"
  }
 },
   "source": [
    "While we're at it, let's also take a look at what the $t$-statistics\n",
    "that led to these features being selected were:"
   ]
  },
  {
   "cell_type": "code",
   "execution_count": null,
   "metadata": {
  "kernelspec": {
   "display_name": "R",
   "language": "R",
   "name": "ir"
  },
  "language_info": {
   "codemirror_mode": "r",
   "file_extension": ".r",
   "mimetype": "text/x-r-source",
   "name": "R",
   "pygments_lexer": "r",
   "version": "4.0.0"
  }
 },
   "outputs": [],
   "source": [
    "tStats = colttests(featData, hessTrainY)$statistic"
   ]
  },
  {
   "cell_type": "markdown",
   "metadata": {
  "kernelspec": {
   "display_name": "R",
   "language": "R",
   "name": "ir"
  },
  "language_info": {
   "codemirror_mode": "r",
   "file_extension": ".r",
   "mimetype": "text/x-r-source",
   "name": "R",
   "pygments_lexer": "r",
   "version": "4.0.0"
  }
 },
   "source": [
    "Now we'll fit a DLDA model using the `HiDimDA` package:"
   ]
  },
  {
   "cell_type": "code",
   "execution_count": null,
   "metadata": {
  "kernelspec": {
   "display_name": "R",
   "language": "R",
   "name": "ir"
  },
  "language_info": {
   "codemirror_mode": "r",
   "file_extension": ".r",
   "mimetype": "text/x-r-source",
   "name": "R",
   "pygments_lexer": "r",
   "version": "4.0.0"
  }
 },
   "outputs": [],
   "source": [
    "## install.packages(\"HiDimDA\")  ## uncomment and run if necessary\n",
    "library(HiDimDA)\n",
    "dldaFit = Dlda(featData, hessTrainY)\n",
    "dldaCoef = dldaFit$scaling[ , 1]      ## HiDimDA is weird about coef\n",
    "qplot(tStats, dldaCoef, alpha=I(0.5)) +\n",
    "        stat_smooth(method=\"lm\", se=FALSE, size=0.5, color=\"dodgerblue\")"
   ]
  },
  {
   "cell_type": "markdown",
   "metadata": {
  "kernelspec": {
   "display_name": "R",
   "language": "R",
   "name": "ir"
  },
  "language_info": {
   "codemirror_mode": "r",
   "file_extension": ".r",
   "mimetype": "text/x-r-source",
   "name": "R",
   "pygments_lexer": "r",
   "version": "4.0.0"
  }
 },
   "source": [
    "Look at that: the coefficients `dldaCoef` of the fit DLDA model are\n",
    "determined by the $t$-statistics of the corresponding features! (The\n",
    "functional relationship is actually slightly more complicated than the\n",
    "straight line used for the plot, however.)\n",
    "\n",
    "This shouldn't be too surprising: naive Bayes assumes (Eq\n",
    "[eq:naive-bayes-assumption](#eq:naive-bayes-assumption)) that the classifier is determined\n",
    "uniquely by the relationship of each feature *individually* with\n",
    "the class labels. This is exactly the sort of bivariate relationship\n",
    "the $t$-statistic was designed to quantify.\n",
    "\n",
    "Here's one more comparison that might be a bit more suprising:"
   ]
  },
  {
   "cell_type": "code",
   "execution_count": null,
   "metadata": {
  "kernelspec": {
   "display_name": "R",
   "language": "R",
   "name": "ir"
  },
  "language_info": {
   "codemirror_mode": "r",
   "file_extension": ".r",
   "mimetype": "text/x-r-source",
   "name": "R",
   "pygments_lexer": "r",
   "version": "4.0.0"
  }
 },
   "outputs": [],
   "source": [
    " ## force a very high value of the regularization parameter lambda:\n",
    "highlyRegLogistic = regularizedGLM(featData, hessTrainY,\n",
    "                                   family=binomial, lambda=10000)\n",
    "highlyRegCoef = coef(highlyRegLogistic)[-1]  ## [-1] to remove intercept\n",
    "qplot(tStats, highlyRegCoef, alpha=I(0.5)) +\n",
    "        stat_smooth(method=\"lm\", se=FALSE, size=0.5, color=\"dodgerblue\")"
   ]
  },
  {
   "cell_type": "markdown",
   "metadata": {
  "kernelspec": {
   "display_name": "R",
   "language": "R",
   "name": "ir"
  },
  "language_info": {
   "codemirror_mode": "r",
   "file_extension": ".r",
   "mimetype": "text/x-r-source",
   "name": "R",
   "pygments_lexer": "r",
   "version": "4.0.0"
  }
 },
   "source": [
    "Thus we see that very highly L2-regularized logistic regression\n",
    "produces linear classifiers whose coefficients are a function of\n",
    "individual feature $t$-statistics, just like DLDA.\n\n",
    "Naive Bayes: does it work?\n",
    "--------------------------\n",
    "\n",
    "In many cases, yes, naive Bayes (NB) models, including DLDA, work\n",
    "quite well: e.g., the `DLDA30.Value` column is included in\n",
    "`hessTrainAnnot` and `hessTestAnnot` because Hess et al. found\n",
    "that DLDA with 30 features exhibited the best performance under (fancy\n",
    "stratified) cross-validation! More generally, there is a large body of\n",
    "ML literature in which naive Bayes methods have been shown to be\n",
    "surprisingly effective.\n",
    "\n",
    "I say \"surprisingly\" because, outside of artificial simulation\n",
    "settings, the underlying conditional independence assumption is\n",
    "basically never true. So why would might it be effective even when\n",
    "false?\n",
    "1.  We may not have enough data to accurately assess true\n",
    "    inter-feature covariance---there are order $m^2$ pairwise\n",
    "    relationships between features to estimate, as opposed to only $m$\n",
    "    relationships between feature and modeled outcome---so that attempts\n",
    "    to do so just lead to overfitting.\n",
    "2.  While the NB assumption tends to lead to *overconfident*\n",
    "    classifiers---probability scores very near 0 or 1 even when\n",
    "    wrong---it still often leads to *accurate* classifiers---most\n",
    "    calls aren't wrong, even though those that are may be\n",
    "    overconfidently wrong.\n",
    "3.  Counterintuitively, you can show mathematically that NB methods\n",
    "    will result in very accurate (though overconfident) classifiers\n",
    "    assuming that all feature values are in fact *very* strongly\n",
    "    correlated with each other within each class ([@rish2001analysis])!\n",
    "    -   This may be quite relevant in some gene expression studies!\n",
    "    \n",
    "\n",
    "Motivated by the results of Hess et al., let's try a DLDA model with\n",
    "30 features out on the test set:"
   ]
  },
  {
   "cell_type": "code",
   "execution_count": null,
   "metadata": {
  "kernelspec": {
   "display_name": "R",
   "language": "R",
   "name": "ir"
  },
  "language_info": {
   "codemirror_mode": "r",
   "file_extension": ".r",
   "mimetype": "text/x-r-source",
   "name": "R",
   "pygments_lexer": "r",
   "version": "4.0.0"
  }
 },
   "outputs": [],
   "source": [
    "fsDldaFit = featSelFit(t(hessTrain), hessTrainY,\n",
    "                       bindArgs(selectByTTest, m=30), Dlda)\n",
    "dldaTestPredClass = predict(fsDldaFit, t(hessTest))$class\n",
    "table(dldaTestPredClass, hessTestY)"
   ]
  },
  {
   "cell_type": "markdown",
   "metadata": {
  "kernelspec": {
   "display_name": "R",
   "language": "R",
   "name": "ir"
  },
  "language_info": {
   "codemirror_mode": "r",
   "file_extension": ".r",
   "mimetype": "text/x-r-source",
   "name": "R",
   "pygments_lexer": "r",
   "version": "4.0.0"
  }
 },
   "source": [
    "So 43 out of\n",
    "51 test samples classified correctly. This is\n",
    "slightly better than we did with either logistic regression or knn,\n",
    "but we can't really conclude much from this result since we haven't\n",
    "systematically compared the algorithms using the exact same feature\n",
    "selections or cross-validation folds."
   ]
  }
 ],
 "metadata": {
  "kernelspec": {
   "display_name": "R",
   "language": "R",
   "name": "ir"
  },
  "language_info": {
   "codemirror_mode": "r",
   "file_extension": ".r",
   "mimetype": "text/x-r-source",
   "name": "R",
   "pygments_lexer": "r",
   "version": "4.0.0"
  }
 },
 "nbformat": 4,
 "nbformat_minor": 4
}
